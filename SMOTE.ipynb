{
 "cells": [
  {
   "cell_type": "code",
   "execution_count": 1,
   "metadata": {},
   "outputs": [],
   "source": [
    "import pandas as pd\n",
    "import matplotlib.pyplot as plt\n",
    "import seaborn as sns\n",
    "from collections import Counter\n",
    "\n",
    "from sklearn import metrics\n",
    "from sklearn.metrics import confusion_matrix\n",
    "from sklearn.metrics import f1_score\n",
    "from sklearn.metrics import classification_report\n",
    "\n",
    "from sklearn.model_selection import train_test_split\n",
    "from sklearn.preprocessing import PowerTransformer\n",
    "from imblearn.over_sampling import SMOTE\n",
    "from sklearn.tree import DecisionTreeClassifier\n",
    "from sklearn.ensemble import RandomForestClassifier, AdaBoostClassifier\n",
    "from sklearn.linear_model import LogisticRegression\n",
    "\n",
    "from sklearn.model_selection import GridSearchCV\n",
    "\n",
    "import warnings\n",
    "warnings.filterwarnings('ignore')"
   ]
  },
  {
   "cell_type": "code",
   "execution_count": 2,
   "metadata": {},
   "outputs": [],
   "source": [
    "df = pd.read_csv(\"Data/preprocessed_df.csv\")\n",
    "X = df.drop(\"Class\", axis=1)\n",
    "y = df[\"Class\"]\n",
    "\n",
    "X_train, X_test, y_train, y_test = train_test_split(X, y, train_size=0.8, test_size=0.2)"
   ]
  },
  {
   "cell_type": "markdown",
   "metadata": {},
   "source": [
    "Feature Scaling"
   ]
  },
  {
   "cell_type": "code",
   "execution_count": 3,
   "metadata": {},
   "outputs": [],
   "source": [
    "pt = PowerTransformer(copy=False)\n",
    "\n",
    "columns = X_train.columns\n",
    "X_train[columns] = pt.fit_transform(X_train)\n",
    "X_test[columns] = pt.transform(X_test)"
   ]
  },
  {
   "cell_type": "markdown",
   "metadata": {},
   "source": [
    "SMOTE - Synthetic Minority Over-sampling Technique"
   ]
  },
  {
   "cell_type": "code",
   "execution_count": 4,
   "metadata": {},
   "outputs": [
    {
     "name": "stdout",
     "output_type": "stream",
     "text": [
      "Before sampling class distribution:- Counter({0: 227448, 1: 397})\n",
      "New class distribution:- Counter({0: 227448, 1: 227448})\n"
     ]
    }
   ],
   "source": [
    "sm = SMOTE()\n",
    "\n",
    "X_train_sm, y_train_sm = sm.fit_resample(X_train, y_train)\n",
    "print('Before sampling class distribution:-',Counter(y_train))\n",
    "print('New class distribution:-',Counter(y_train_sm))"
   ]
  },
  {
   "cell_type": "code",
   "execution_count": 5,
   "metadata": {},
   "outputs": [],
   "source": [
    "def evaluate_model(model, X_train=X_train, y_train=y_train, X_test=X_test, y_test=y_test, train_res=True):\n",
    "    if train_res:\n",
    "        y_train_pred = model.predict(X_train)\n",
    "        tn, fp, fn, tp = confusion_matrix(y_train, y_train_pred).ravel()\n",
    "        print(\"False Positive Rate: {}\".format((fp / (fp + tn))))\n",
    "        print(\"False Negative Rate: {}\".format((fn / (tp + fn))))\n",
    "        print(\"True Negative Rate (Specificity): {}\".format((tn / (tn + fp))))\n",
    "        print(\"True Positive Rate (Sensitivity/Recall): {}\".format(metrics.recall_score(y_train, y_train_pred)))\n",
    "        print(\"ROC-AUC Score: {}\".format(metrics.roc_auc_score(y_train, y_train_pred)))\n",
    "        print(\"Accuracy: {}\".format(metrics.accuracy_score(y_train, y_train_pred)))\n",
    "        print(\"Log-loss: {}\".format(metrics.log_loss(y_train, y_train_pred)))\n",
    "        print(\"F1 Score: {}\".format(f1_score(y_train, y_train_pred)))\n",
    "        print(\"F2 Score: {}\".format(metrics.fbeta_score(y_train, y_train_pred, beta=2)))\n",
    "        print(metrics.confusion_matrix(y_train, y_train_pred))\n",
    "        print(classification_report(y_train, y_train_pred))\n",
    "        \n",
    "        print(\"------------------------------------------------------------------------------------\")\n",
    "    # Evaluation on Test Set\n",
    "    y_test_pred = model.predict(X_test)\n",
    "    tn, fp, fn, tp = confusion_matrix(y_test, y_test_pred).ravel()\n",
    "    print(\"False Positive Rate: {}\".format((fp / (fp + tn))))\n",
    "    print(\"False Negative Rate: {}\".format((fn / (tp + fn))))\n",
    "    print(\"True Negative Rate (Specificity): {}\".format((tn / (tn + fp))))\n",
    "    print(\"True Positive Rate (Sensitivity/Recall): {}\".format(metrics.recall_score(y_test, y_test_pred)))\n",
    "    print(\"ROC-AUC Score: {}\".format(metrics.roc_auc_score(y_test, y_test_pred)))\n",
    "    print(\"Accuracy: {}\".format(metrics.accuracy_score(y_test, y_test_pred)))\n",
    "    print(\"Log-loss: {}\".format(metrics.log_loss(y_test, y_test_pred)))\n",
    "    print(\"F1 Score: {}\".format(f1_score(y_test, y_test_pred)))\n",
    "    print(\"F2 Score: {}\".format(metrics.fbeta_score(y_test, y_test_pred, beta=2)))\n",
    "    print(metrics.confusion_matrix(y_test, y_test_pred))\n",
    "    print(classification_report(y_test, y_test_pred))\n",
    "\n",
    "    return None"
   ]
  },
  {
   "cell_type": "code",
   "execution_count": 6,
   "metadata": {},
   "outputs": [
    {
     "name": "stdout",
     "output_type": "stream",
     "text": [
      "False Positive Rate: 0.0025498092039319816\n",
      "False Negative Rate: 0.24210526315789474\n",
      "True Negative Rate (Specificity): 0.997450190796068\n",
      "True Positive Rate (Sensitivity/Recall): 0.7578947368421053\n",
      "ROC-AUC Score: 0.8776724638190867\n",
      "Accuracy: 0.9970506653558513\n",
      "Log-loss: 0.10186844520860273\n",
      "F1 Score: 0.46153846153846156\n",
      "F2 Score: 0.6030150753768844\n",
      "[[56722   145]\n",
      " [   23    72]]\n",
      "              precision    recall  f1-score   support\n",
      "\n",
      "           0       1.00      1.00      1.00     56867\n",
      "           1       0.33      0.76      0.46        95\n",
      "\n",
      "    accuracy                           1.00     56962\n",
      "   macro avg       0.67      0.88      0.73     56962\n",
      "weighted avg       1.00      1.00      1.00     56962\n",
      "\n"
     ]
    }
   ],
   "source": [
    "dt = DecisionTreeClassifier().fit(X_train_sm, y_train_sm)\n",
    "evaluate_model(dt, train_res=False)"
   ]
  },
  {
   "cell_type": "code",
   "execution_count": 7,
   "metadata": {},
   "outputs": [
    {
     "name": "stdout",
     "output_type": "stream",
     "text": [
      "False Positive Rate: 0.0002110186927391985\n",
      "False Negative Rate: 0.18947368421052632\n",
      "True Negative Rate (Specificity): 0.9997889813072608\n",
      "True Positive Rate (Sensitivity/Recall): 0.8105263157894737\n",
      "ROC-AUC Score: 0.9051576485483672\n",
      "Accuracy: 0.9994733330992591\n",
      "Log-loss: 0.018190598767889813\n",
      "F1 Score: 0.8369565217391305\n",
      "F2 Score: 0.8208955223880596\n",
      "[[56855    12]\n",
      " [   18    77]]\n",
      "              precision    recall  f1-score   support\n",
      "\n",
      "           0       1.00      1.00      1.00     56867\n",
      "           1       0.87      0.81      0.84        95\n",
      "\n",
      "    accuracy                           1.00     56962\n",
      "   macro avg       0.93      0.91      0.92     56962\n",
      "weighted avg       1.00      1.00      1.00     56962\n",
      "\n"
     ]
    }
   ],
   "source": [
    "rf = RandomForestClassifier().fit(X_train_sm, y_train_sm)\n",
    "evaluate_model(rf, train_res=False)"
   ]
  },
  {
   "cell_type": "code",
   "execution_count": 8,
   "metadata": {},
   "outputs": [
    {
     "name": "stdout",
     "output_type": "stream",
     "text": [
      "False Positive Rate: 0.02625424235496861\n",
      "False Negative Rate: 0.09473684210526316\n",
      "True Negative Rate (Specificity): 0.9737457576450314\n",
      "True Positive Rate (Sensitivity/Recall): 0.9052631578947369\n",
      "ROC-AUC Score: 0.9395044577698842\n",
      "Accuracy: 0.9736315438362417\n",
      "Log-loss: 0.9107551691323896\n",
      "F1 Score: 0.10274790919952209\n",
      "F2 Score: 0.2194997447677386\n",
      "[[55374  1493]\n",
      " [    9    86]]\n",
      "              precision    recall  f1-score   support\n",
      "\n",
      "           0       1.00      0.97      0.99     56867\n",
      "           1       0.05      0.91      0.10        95\n",
      "\n",
      "    accuracy                           0.97     56962\n",
      "   macro avg       0.53      0.94      0.54     56962\n",
      "weighted avg       1.00      0.97      0.99     56962\n",
      "\n"
     ]
    }
   ],
   "source": [
    "ada = AdaBoostClassifier().fit(X_train_sm, y_train_sm)\n",
    "evaluate_model(ada, train_res=False)"
   ]
  },
  {
   "cell_type": "code",
   "execution_count": 9,
   "metadata": {},
   "outputs": [
    {
     "name": "stdout",
     "output_type": "stream",
     "text": [
      "False Positive Rate: 0.029384352963933387\n",
      "False Negative Rate: 0.07368421052631578\n",
      "True Negative Rate (Specificity): 0.9706156470360666\n",
      "True Positive Rate (Sensitivity/Recall): 0.9263157894736842\n",
      "ROC-AUC Score: 0.9484657182548755\n",
      "Accuracy: 0.9705417646852288\n",
      "Log-loss: 1.0174748589931186\n",
      "F1 Score: 0.09492988133764833\n",
      "F2 Score: 0.20570359981299677\n",
      "[[55196  1671]\n",
      " [    7    88]]\n",
      "              precision    recall  f1-score   support\n",
      "\n",
      "           0       1.00      0.97      0.99     56867\n",
      "           1       0.05      0.93      0.09        95\n",
      "\n",
      "    accuracy                           0.97     56962\n",
      "   macro avg       0.52      0.95      0.54     56962\n",
      "weighted avg       1.00      0.97      0.98     56962\n",
      "\n"
     ]
    }
   ],
   "source": [
    "lr = LogisticRegression().fit(X_train_sm, y_train_sm)\n",
    "evaluate_model(lr, train_res=False)"
   ]
  },
  {
   "cell_type": "code",
   "execution_count": null,
   "metadata": {},
   "outputs": [],
   "source": []
  }
 ],
 "metadata": {
  "kernelspec": {
   "display_name": "Python 3.7.13 ('pyenv')",
   "language": "python",
   "name": "python3"
  },
  "language_info": {
   "codemirror_mode": {
    "name": "ipython",
    "version": 3
   },
   "file_extension": ".py",
   "mimetype": "text/x-python",
   "name": "python",
   "nbconvert_exporter": "python",
   "pygments_lexer": "ipython3",
   "version": "3.7.13"
  },
  "orig_nbformat": 4,
  "vscode": {
   "interpreter": {
    "hash": "5bb370feee63ea947f4e36f62d029664881a91224cdc3b84e096eaffbbbfd976"
   }
  }
 },
 "nbformat": 4,
 "nbformat_minor": 2
}
