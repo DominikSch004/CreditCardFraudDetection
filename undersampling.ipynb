{
 "cells": [
  {
   "cell_type": "code",
   "execution_count": 1,
   "metadata": {},
   "outputs": [],
   "source": [
    "import pandas as pd\n",
    "import matplotlib.pyplot as plt\n",
    "import seaborn as sns\n",
    "from collections import Counter\n",
    "\n",
    "from sklearn import metrics\n",
    "from sklearn.metrics import confusion_matrix\n",
    "from sklearn.metrics import f1_score\n",
    "from sklearn.metrics import classification_report\n",
    "\n",
    "from sklearn.model_selection import train_test_split\n",
    "from sklearn.preprocessing import PowerTransformer\n",
    "from imblearn.under_sampling import RandomUnderSampler\n",
    "\n",
    "from sklearn.tree import DecisionTreeClassifier\n",
    "from sklearn.ensemble import RandomForestClassifier, AdaBoostClassifier\n",
    "from sklearn.linear_model import LogisticRegression\n",
    "\n",
    "from sklearn.model_selection import GridSearchCV\n",
    "\n",
    "import warnings\n",
    "warnings.filterwarnings('ignore')"
   ]
  },
  {
   "cell_type": "code",
   "execution_count": 2,
   "metadata": {},
   "outputs": [],
   "source": [
    "df = pd.read_csv(\"preprocessed_df.csv\")\n",
    "X = df.drop([\"Class\"], axis=1)\n",
    "y = df[\"Class\"]\n",
    "\n",
    "X_train, X_test, y_train, y_test = train_test_split(X, y, train_size=0.8, test_size=0.2)"
   ]
  },
  {
   "cell_type": "markdown",
   "metadata": {},
   "source": [
    "Feature Scaling"
   ]
  },
  {
   "cell_type": "code",
   "execution_count": 3,
   "metadata": {},
   "outputs": [],
   "source": [
    "pt = PowerTransformer(copy=False)\n",
    "\n",
    "columns = X_train.columns\n",
    "X_train[columns] = pt.fit_transform(X_train)\n",
    "X_test[columns] = pt.transform(X_test)"
   ]
  },
  {
   "cell_type": "markdown",
   "metadata": {},
   "source": [
    "Random Undersampling"
   ]
  },
  {
   "cell_type": "code",
   "execution_count": 4,
   "metadata": {},
   "outputs": [
    {
     "name": "stdout",
     "output_type": "stream",
     "text": [
      "Before sampling class distribution:- Counter({0: 227450, 1: 395})\n",
      "New class distribution:- Counter({0: 395, 1: 395})\n"
     ]
    }
   ],
   "source": [
    "rus = RandomUnderSampler()\n",
    "\n",
    "X_train_us, y_train_us = rus.fit_resample(X_train, y_train)\n",
    "print('Before sampling class distribution:-',Counter(y_train))\n",
    "print('New class distribution:-',Counter(y_train_us))"
   ]
  },
  {
   "cell_type": "code",
   "execution_count": 5,
   "metadata": {},
   "outputs": [],
   "source": [
    "def evaluate_model(model, X_train=X_train, y_train=y_train, X_test=X_test, y_test=y_test, train_res=True):\n",
    "    if train_res:\n",
    "        y_train_pred = model.predict(X_train)\n",
    "        tn, fp, fn, tp = confusion_matrix(y_train, y_train_pred).ravel()\n",
    "        print(\"False Positive Rate: {}\".format((fp / (fp + tn))))\n",
    "        print(\"False Negative Rate: {}\".format((fn / (tp + fn))))\n",
    "        print(\"True Negative Rate (Specificity): {}\".format((tn / (tn + fp))))\n",
    "        print(\"True Positive Rate (Sensitivity/Recall): {}\".format(metrics.recall_score(y_train, y_train_pred)))\n",
    "        print(\"ROC-AUC Score: {}\".format(metrics.roc_auc_score(y_train, y_train_pred)))\n",
    "        print(\"Accuracy: {}\".format(metrics.accuracy_score(y_train, y_train_pred)))\n",
    "        print(\"Log-loss: {}\".format(metrics.log_loss(y_train, y_train_pred)))\n",
    "        print(\"F1 Score: {}\".format(f1_score(y_train, y_train_pred)))\n",
    "        print(\"F2 Score: {}\".format(metrics.fbeta_score(y_train, y_train_pred, beta=2)))\n",
    "        print(metrics.confusion_matrix(y_train, y_train_pred))\n",
    "        print(classification_report(y_train, y_train_pred))\n",
    "        \n",
    "        print(\"------------------------------------------------------------------------------------\")\n",
    "    # Evaluation on Test Set\n",
    "    y_test_pred = model.predict(X_test)\n",
    "    tn, fp, fn, tp = confusion_matrix(y_test, y_test_pred).ravel()\n",
    "    print(\"False Positive Rate: {}\".format((fp / (fp + tn))))\n",
    "    print(\"False Negative Rate: {}\".format((fn / (tp + fn))))\n",
    "    print(\"True Negative Rate (Specificity): {}\".format((tn / (tn + fp))))\n",
    "    print(\"True Positive Rate (Sensitivity/Recall): {}\".format(metrics.recall_score(y_test, y_test_pred)))\n",
    "    print(\"ROC-AUC Score: {}\".format(metrics.roc_auc_score(y_test, y_test_pred)))\n",
    "    print(\"Accuracy: {}\".format(metrics.accuracy_score(y_test, y_test_pred)))\n",
    "    print(\"Log-loss: {}\".format(metrics.log_loss(y_test, y_test_pred)))\n",
    "    print(\"F1 Score: {}\".format(f1_score(y_test, y_test_pred)))\n",
    "    print(\"F2 Score: {}\".format(metrics.fbeta_score(y_test, y_test_pred, beta=2)))\n",
    "    print(metrics.confusion_matrix(y_test, y_test_pred))\n",
    "    print(classification_report(y_test, y_test_pred))\n",
    "\n",
    "    return None"
   ]
  },
  {
   "cell_type": "code",
   "execution_count": 6,
   "metadata": {},
   "outputs": [
    {
     "name": "stdout",
     "output_type": "stream",
     "text": [
      "False Positive Rate: 0.10939945484920426\n",
      "False Negative Rate: 0.08247422680412371\n",
      "True Negative Rate (Specificity): 0.8906005451507958\n",
      "True Positive Rate (Sensitivity/Recall): 0.9175257731958762\n",
      "ROC-AUC Score: 0.904063159173336\n",
      "Accuracy: 0.8906463958428426\n",
      "Log-loss: 3.777027008523435\n",
      "F1 Score: 0.02778211331356329\n",
      "F2 Score: 0.06643774260973424\n",
      "[[50644  6221]\n",
      " [    8    89]]\n",
      "              precision    recall  f1-score   support\n",
      "\n",
      "           0       1.00      0.89      0.94     56865\n",
      "           1       0.01      0.92      0.03        97\n",
      "\n",
      "    accuracy                           0.89     56962\n",
      "   macro avg       0.51      0.90      0.48     56962\n",
      "weighted avg       1.00      0.89      0.94     56962\n",
      "\n"
     ]
    }
   ],
   "source": [
    "dt = DecisionTreeClassifier().fit(X_train_us, y_train_us)\n",
    "evaluate_model(dt, train_res=False)"
   ]
  },
  {
   "cell_type": "code",
   "execution_count": 7,
   "metadata": {},
   "outputs": [
    {
     "name": "stdout",
     "output_type": "stream",
     "text": [
      "False Positive Rate: 0.02796096016882089\n",
      "False Negative Rate: 0.09278350515463918\n",
      "True Negative Rate (Specificity): 0.9720390398311791\n",
      "True Positive Rate (Sensitivity/Recall): 0.9072164948453608\n",
      "ROC-AUC Score: 0.9396277673382699\n",
      "Accuracy: 0.971928654190513\n",
      "Log-loss: 0.9695722554576075\n",
      "F1 Score: 0.09915492957746479\n",
      "F2 Score: 0.21297192642788\n",
      "[[55275  1590]\n",
      " [    9    88]]\n",
      "              precision    recall  f1-score   support\n",
      "\n",
      "           0       1.00      0.97      0.99     56865\n",
      "           1       0.05      0.91      0.10        97\n",
      "\n",
      "    accuracy                           0.97     56962\n",
      "   macro avg       0.53      0.94      0.54     56962\n",
      "weighted avg       1.00      0.97      0.98     56962\n",
      "\n"
     ]
    }
   ],
   "source": [
    "rf = RandomForestClassifier().fit(X_train_us, y_train_us)\n",
    "evaluate_model(rf, train_res=False)"
   ]
  },
  {
   "cell_type": "code",
   "execution_count": 8,
   "metadata": {},
   "outputs": [
    {
     "name": "stdout",
     "output_type": "stream",
     "text": [
      "False Positive Rate: 0.036894399015211465\n",
      "False Negative Rate: 0.09278350515463918\n",
      "True Negative Rate (Specificity): 0.9631056009847885\n",
      "True Positive Rate (Sensitivity/Recall): 0.9072164948453608\n",
      "ROC-AUC Score: 0.9351610479150746\n",
      "Accuracy: 0.9630104280046347\n",
      "Log-loss: 1.2776040065216354\n",
      "F1 Score: 0.07709154621112571\n",
      "F2 Score: 0.17094017094017094\n",
      "[[54767  2098]\n",
      " [    9    88]]\n",
      "              precision    recall  f1-score   support\n",
      "\n",
      "           0       1.00      0.96      0.98     56865\n",
      "           1       0.04      0.91      0.08        97\n",
      "\n",
      "    accuracy                           0.96     56962\n",
      "   macro avg       0.52      0.94      0.53     56962\n",
      "weighted avg       1.00      0.96      0.98     56962\n",
      "\n"
     ]
    }
   ],
   "source": [
    "ada = AdaBoostClassifier().fit(X_train_us, y_train_us)\n",
    "evaluate_model(ada, train_res=False)"
   ]
  },
  {
   "cell_type": "code",
   "execution_count": 9,
   "metadata": {},
   "outputs": [
    {
     "name": "stdout",
     "output_type": "stream",
     "text": [
      "False Positive Rate: 0.03253319264925701\n",
      "False Negative Rate: 0.07216494845360824\n",
      "True Negative Rate (Specificity): 0.967466807350743\n",
      "True Positive Rate (Sensitivity/Recall): 0.9278350515463918\n",
      "ROC-AUC Score: 0.9476509294485673\n",
      "Accuracy: 0.9673993188441417\n",
      "Log-loss: 1.12601360592316\n",
      "F1 Score: 0.08836524300441827\n",
      "F2 Score: 0.19329896907216496\n",
      "[[55015  1850]\n",
      " [    7    90]]\n",
      "              precision    recall  f1-score   support\n",
      "\n",
      "           0       1.00      0.97      0.98     56865\n",
      "           1       0.05      0.93      0.09        97\n",
      "\n",
      "    accuracy                           0.97     56962\n",
      "   macro avg       0.52      0.95      0.54     56962\n",
      "weighted avg       1.00      0.97      0.98     56962\n",
      "\n"
     ]
    }
   ],
   "source": [
    " lr = LogisticRegression().fit(X_train_us, y_train_us)\n",
    " evaluate_model(lr, train_res=False)"
   ]
  },
  {
   "cell_type": "code",
   "execution_count": null,
   "metadata": {},
   "outputs": [],
   "source": []
  }
 ],
 "metadata": {
  "kernelspec": {
   "display_name": "Python 3.7.13 ('pyenv')",
   "language": "python",
   "name": "python3"
  },
  "language_info": {
   "codemirror_mode": {
    "name": "ipython",
    "version": 3
   },
   "file_extension": ".py",
   "mimetype": "text/x-python",
   "name": "python",
   "nbconvert_exporter": "python",
   "pygments_lexer": "ipython3",
   "version": "3.7.13"
  },
  "orig_nbformat": 4,
  "vscode": {
   "interpreter": {
    "hash": "5bb370feee63ea947f4e36f62d029664881a91224cdc3b84e096eaffbbbfd976"
   }
  }
 },
 "nbformat": 4,
 "nbformat_minor": 2
}
