{
 "cells": [
  {
   "cell_type": "code",
   "execution_count": 14,
   "metadata": {},
   "outputs": [],
   "source": [
    "import pandas as pd\n",
    "import matplotlib.pyplot as plt\n",
    "import seaborn as sns\n",
    "from collections import Counter\n",
    "\n",
    "from sklearn import metrics\n",
    "from sklearn.metrics import confusion_matrix\n",
    "from sklearn.metrics import f1_score\n",
    "from sklearn.metrics import classification_report\n",
    "\n",
    "from sklearn.model_selection import GridSearchCV\n",
    "\n",
    "from sklearn.model_selection import train_test_split\n",
    "from sklearn.preprocessing import PowerTransformer\n",
    "from imblearn.over_sampling import ADASYN\n",
    "from sklearn.tree import DecisionTreeClassifier\n",
    "from sklearn.ensemble import RandomForestClassifier, AdaBoostClassifier\n",
    "from sklearn.linear_model import LogisticRegression\n",
    "\n",
    "import warnings\n",
    "warnings.filterwarnings('ignore')"
   ]
  },
  {
   "cell_type": "code",
   "execution_count": 2,
   "metadata": {},
   "outputs": [],
   "source": [
    "df = pd.read_csv(\"Data/preprocessed_df.csv\")\n",
    "X = df.drop(\"Class\", axis=1)\n",
    "y = df[\"Class\"]\n",
    "\n",
    "X_train, X_test, y_train, y_test = train_test_split(X, y, train_size=0.8, test_size=0.2)"
   ]
  },
  {
   "cell_type": "code",
   "execution_count": 3,
   "metadata": {},
   "outputs": [],
   "source": [
    "pt = PowerTransformer(copy=False)\n",
    "\n",
    "columns = X_train.columns\n",
    "X_train[columns] = pt.fit_transform(X_train)\n",
    "X_test[columns] = pt.transform(X_test)"
   ]
  },
  {
   "cell_type": "code",
   "execution_count": 4,
   "metadata": {},
   "outputs": [
    {
     "name": "stdout",
     "output_type": "stream",
     "text": [
      "Before sampling class distribution:- Counter({0: 227446, 1: 399})\n",
      "New class distribution:- Counter({0: 227446, 1: 227439})\n"
     ]
    }
   ],
   "source": [
    "ad = ADASYN()\n",
    "\n",
    "X_train_ad, y_train_ad = ad.fit_resample(X_train, y_train)\n",
    "print('Before sampling class distribution:-',Counter(y_train))\n",
    "print('New class distribution:-',Counter(y_train_ad))"
   ]
  },
  {
   "cell_type": "code",
   "execution_count": 11,
   "metadata": {},
   "outputs": [],
   "source": [
    "def evaluate_model(model, X_train=X_train, y_train=y_train, X_test=X_test, y_test=y_test, train_res=True):\n",
    "    if train_res:\n",
    "        y_train_pred = model.predict(X_train)\n",
    "        tn, fp, fn, tp = confusion_matrix(y_train, y_train_pred).ravel()\n",
    "\n",
    "        print(\"True Negative Rate (Specificity): {}\".format((tn / (tn + fp))))\n",
    "        print(\"True Positive Rate (Sensitivity/Recall): {}\".format(metrics.recall_score(y_train, y_train_pred)))\n",
    "        print(\"ROC-AUC Score: {}\".format(metrics.roc_auc_score(y_train, y_train_pred)))\n",
    "        print(\"Average Precision: {}\".format(metrics.average_precision_score(y_train, y_train_pred)))\n",
    "        print(\"F1 Score: {}\".format(f1_score(y_train, y_train_pred)))\n",
    "        print(\"F2 Score: {}\".format(metrics.fbeta_score(y_train, y_train_pred, beta=2)))\n",
    "        print(metrics.confusion_matrix(y_train, y_train_pred))\n",
    "        print(classification_report(y_train, y_train_pred))\n",
    "        \n",
    "        print(\"------------------------------------------------------------------------------------\")\n",
    "    # Evaluation on Test Set\n",
    "    y_test_pred = model.predict(X_test)\n",
    "    tn, fp, fn, tp = confusion_matrix(y_test, y_test_pred).ravel()\n",
    "\n",
    "    print(\"True Negative Rate (Specificity): {}\".format((tn / (tn + fp))))\n",
    "    print(\"True Positive Rate (Sensitivity/Recall): {}\".format(metrics.recall_score(y_test, y_test_pred)))\n",
    "    print(\"ROC-AUC Score: {}\".format(metrics.roc_auc_score(y_test, y_test_pred)))\n",
    "    print(\"Average Precision: {}\".format(metrics.average_precision_score(y_test, y_test_pred)))\n",
    "    print(\"F1 Score: {}\".format(f1_score(y_test, y_test_pred)))\n",
    "    print(\"F2 Score: {}\".format(metrics.fbeta_score(y_test, y_test_pred, beta=2)))\n",
    "    print(metrics.confusion_matrix(y_test, y_test_pred))\n",
    "    print(classification_report(y_test, y_test_pred))\n",
    "\n",
    "    return None"
   ]
  },
  {
   "cell_type": "code",
   "execution_count": 6,
   "metadata": {},
   "outputs": [
    {
     "name": "stdout",
     "output_type": "stream",
     "text": [
      "False Positive Rate: 0.0015650002637640893\n",
      "False Negative Rate: 0.25806451612903225\n",
      "True Negative Rate (Specificity): 0.998434999736236\n",
      "True Positive Rate (Sensitivity/Recall): 0.7419354838709677\n",
      "ROC-AUC Score: 0.8701852418036019\n",
      "Accuracy: 0.9980162213405428\n",
      "Average Precision: 0.32443113343892666\n",
      "F1 Score: 0.5498007968127491\n",
      "F2 Score: 0.6509433962264153\n",
      "[[56780    89]\n",
      " [   24    69]]\n",
      "              precision    recall  f1-score   support\n",
      "\n",
      "           0       1.00      1.00      1.00     56869\n",
      "           1       0.44      0.74      0.55        93\n",
      "\n",
      "    accuracy                           1.00     56962\n",
      "   macro avg       0.72      0.87      0.77     56962\n",
      "weighted avg       1.00      1.00      1.00     56962\n",
      "\n"
     ]
    }
   ],
   "source": [
    "dt = DecisionTreeClassifier().fit(X_train_ad, y_train_ad)\n",
    "evaluate_model(dt, train_res=False)"
   ]
  },
  {
   "cell_type": "code",
   "execution_count": 7,
   "metadata": {},
   "outputs": [
    {
     "name": "stdout",
     "output_type": "stream",
     "text": [
      "False Positive Rate: 0.00022859554414531643\n",
      "False Negative Rate: 0.23655913978494625\n",
      "True Negative Rate (Specificity): 0.9997714044558547\n",
      "True Positive Rate (Sensitivity/Recall): 0.7634408602150538\n",
      "ROC-AUC Score: 0.8816061323354542\n",
      "Accuracy: 0.999385555282469\n",
      "Average Precision: 0.6456755209089816\n",
      "F1 Score: 0.8022598870056498\n",
      "F2 Score: 0.7785087719298246\n",
      "[[56856    13]\n",
      " [   22    71]]\n",
      "              precision    recall  f1-score   support\n",
      "\n",
      "           0       1.00      1.00      1.00     56869\n",
      "           1       0.85      0.76      0.80        93\n",
      "\n",
      "    accuracy                           1.00     56962\n",
      "   macro avg       0.92      0.88      0.90     56962\n",
      "weighted avg       1.00      1.00      1.00     56962\n",
      "\n"
     ]
    }
   ],
   "source": [
    "rf = RandomForestClassifier().fit(X_train_ad, y_train_ad)\n",
    "evaluate_model(rf, train_res=False)"
   ]
  },
  {
   "cell_type": "code",
   "execution_count": 15,
   "metadata": {},
   "outputs": [],
   "source": [
    "param_grid = { \n",
    "    'n_estimators': [200, 500],\n",
    "    'max_features': ['auto', 'sqrt', 'log2'],\n",
    "    'max_depth' : [4,5,6,7,8],\n",
    "    'criterion' :['gini', 'entropy']\n",
    "}"
   ]
  },
  {
   "cell_type": "code",
   "execution_count": 17,
   "metadata": {},
   "outputs": [],
   "source": [
    "rfc=RandomForestClassifier(random_state=1)\n",
    "CV_rfc = GridSearchCV(estimator=rfc, param_grid=param_grid, cv= 5)\n",
    "CV_rfc.fit(X_train_ad, y_train_ad)"
   ]
  },
  {
   "cell_type": "code",
   "execution_count": null,
   "metadata": {},
   "outputs": [],
   "source": [
    "CV_rfc.best_params_"
   ]
  },
  {
   "cell_type": "code",
   "execution_count": 9,
   "metadata": {},
   "outputs": [
    {
     "name": "stdout",
     "output_type": "stream",
     "text": [
      "False Positive Rate: 0.06145703282983699\n",
      "False Negative Rate: 0.0967741935483871\n",
      "True Negative Rate (Specificity): 0.9385429671701631\n",
      "True Positive Rate (Sensitivity/Recall): 0.9032258064516129\n",
      "ROC-AUC Score: 0.920884386810888\n",
      "Accuracy: 0.9384853059934694\n",
      "Average Precision: 0.02135692930798014\n",
      "F1 Score: 0.04575163398692811\n",
      "F2 Score: 0.10630220197418375\n",
      "[[53374  3495]\n",
      " [    9    84]]\n",
      "              precision    recall  f1-score   support\n",
      "\n",
      "           0       1.00      0.94      0.97     56869\n",
      "           1       0.02      0.90      0.05        93\n",
      "\n",
      "    accuracy                           0.94     56962\n",
      "   macro avg       0.51      0.92      0.51     56962\n",
      "weighted avg       1.00      0.94      0.97     56962\n",
      "\n"
     ]
    }
   ],
   "source": [
    "ada = AdaBoostClassifier().fit(X_train_ad, y_train_ad)\n",
    "evaluate_model(ada, train_res=False)"
   ]
  },
  {
   "cell_type": "code",
   "execution_count": 10,
   "metadata": {},
   "outputs": [
    {
     "name": "stdout",
     "output_type": "stream",
     "text": [
      "False Positive Rate: 0.09198333010955002\n",
      "False Negative Rate: 0.07526881720430108\n",
      "True Negative Rate (Specificity): 0.9080166698904499\n",
      "True Positive Rate (Sensitivity/Recall): 0.9247311827956989\n",
      "ROC-AUC Score: 0.9163739263430745\n",
      "Accuracy: 0.9080439591306485\n",
      "Average Precision: 0.015079985373904937\n",
      "F1 Score: 0.03179297597042514\n",
      "F2 Score: 0.0755844612409914\n",
      "[[51638  5231]\n",
      " [    7    86]]\n",
      "              precision    recall  f1-score   support\n",
      "\n",
      "           0       1.00      0.91      0.95     56869\n",
      "           1       0.02      0.92      0.03        93\n",
      "\n",
      "    accuracy                           0.91     56962\n",
      "   macro avg       0.51      0.92      0.49     56962\n",
      "weighted avg       1.00      0.91      0.95     56962\n",
      "\n"
     ]
    }
   ],
   "source": [
    "lr = LogisticRegression().fit(X_train_ad, y_train_ad)\n",
    "evaluate_model(lr, train_res=False)"
   ]
  },
  {
   "cell_type": "code",
   "execution_count": null,
   "metadata": {},
   "outputs": [],
   "source": []
  }
 ],
 "metadata": {
  "kernelspec": {
   "display_name": "Python 3.7.13 ('pyenv')",
   "language": "python",
   "name": "python3"
  },
  "language_info": {
   "codemirror_mode": {
    "name": "ipython",
    "version": 3
   },
   "file_extension": ".py",
   "mimetype": "text/x-python",
   "name": "python",
   "nbconvert_exporter": "python",
   "pygments_lexer": "ipython3",
   "version": "3.7.13"
  },
  "orig_nbformat": 4,
  "vscode": {
   "interpreter": {
    "hash": "5bb370feee63ea947f4e36f62d029664881a91224cdc3b84e096eaffbbbfd976"
   }
  }
 },
 "nbformat": 4,
 "nbformat_minor": 2
}
