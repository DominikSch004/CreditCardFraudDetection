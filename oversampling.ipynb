{
 "cells": [
  {
   "cell_type": "code",
   "execution_count": 1,
   "metadata": {},
   "outputs": [],
   "source": [
    "import pandas as pd\n",
    "import matplotlib.pyplot as plt\n",
    "import seaborn as sns\n",
    "from collections import Counter\n",
    "\n",
    "from sklearn import metrics\n",
    "from sklearn.metrics import confusion_matrix\n",
    "from sklearn.metrics import f1_score\n",
    "from sklearn.metrics import classification_report\n",
    "\n",
    "from sklearn.model_selection import train_test_split\n",
    "from sklearn.preprocessing import PowerTransformer\n",
    "from imblearn.over_sampling import RandomOverSampler\n",
    "from sklearn.tree import DecisionTreeClassifier\n",
    "from sklearn.ensemble import RandomForestClassifier, AdaBoostClassifier\n",
    "from sklearn.linear_model import LogisticRegression\n",
    "\n",
    "from sklearn.model_selection import GridSearchCV\n",
    "\n",
    "import warnings\n",
    "warnings.filterwarnings('ignore')"
   ]
  },
  {
   "cell_type": "code",
   "execution_count": 2,
   "metadata": {},
   "outputs": [],
   "source": [
    "df = pd.read_csv(\"Data/preprocessed_df.csv\")\n",
    "X = df.drop(\"Class\", axis=1)\n",
    "y = df[\"Class\"]\n",
    "\n",
    "X_train, X_test, y_train, y_test = train_test_split(X, y, train_size=0.8, test_size=0.2)"
   ]
  },
  {
   "cell_type": "markdown",
   "metadata": {},
   "source": [
    "Feature Scaling"
   ]
  },
  {
   "cell_type": "code",
   "execution_count": 3,
   "metadata": {},
   "outputs": [],
   "source": [
    "pt = PowerTransformer(copy=False)\n",
    "\n",
    "columns = X_train.columns\n",
    "X_train[columns] = pt.fit_transform(X_train)\n",
    "X_test[columns] = pt.transform(X_test)"
   ]
  },
  {
   "cell_type": "markdown",
   "metadata": {},
   "source": [
    "Random Oversampling"
   ]
  },
  {
   "cell_type": "code",
   "execution_count": 4,
   "metadata": {},
   "outputs": [
    {
     "name": "stdout",
     "output_type": "stream",
     "text": [
      "Before sampling class distribution:- Counter({0: 227447, 1: 398})\n",
      "New class distribution:- Counter({0: 227447, 1: 227447})\n"
     ]
    }
   ],
   "source": [
    "rus = RandomOverSampler()\n",
    "\n",
    "X_train_os, y_train_os = rus.fit_resample(X_train, y_train)\n",
    "print('Before sampling class distribution:-',Counter(y_train))\n",
    "print('New class distribution:-',Counter(y_train_os))"
   ]
  },
  {
   "cell_type": "code",
   "execution_count": 5,
   "metadata": {},
   "outputs": [],
   "source": [
    "def evaluate_model(model, X_train=X_train, y_train=y_train, X_test=X_test, y_test=y_test, train_res=True):\n",
    "    if train_res:\n",
    "        y_train_pred = model.predict(X_train)\n",
    "        tn, fp, fn, tp = confusion_matrix(y_train, y_train_pred).ravel()\n",
    "        print(\"False Positive Rate: {}\".format((fp / (fp + tn))))\n",
    "        print(\"False Negative Rate: {}\".format((fn / (tp + fn))))\n",
    "        print(\"True Negative Rate (Specificity): {}\".format((tn / (tn + fp))))\n",
    "        print(\"True Positive Rate (Sensitivity/Recall): {}\".format(metrics.recall_score(y_train, y_train_pred)))\n",
    "        print(\"ROC-AUC Score: {}\".format(metrics.roc_auc_score(y_train, y_train_pred)))\n",
    "        print(\"Accuracy: {}\".format(metrics.accuracy_score(y_train, y_train_pred)))\n",
    "        print(\"Log-loss: {}\".format(metrics.log_loss(y_train, y_train_pred)))\n",
    "        print(\"F1 Score: {}\".format(f1_score(y_train, y_train_pred)))\n",
    "        print(\"F2 Score: {}\".format(metrics.fbeta_score(y_train, y_train_pred, beta=2)))\n",
    "        print(metrics.confusion_matrix(y_train, y_train_pred))\n",
    "        print(classification_report(y_train, y_train_pred))\n",
    "        \n",
    "        print(\"------------------------------------------------------------------------------------\")\n",
    "    # Evaluation on Test Set\n",
    "    y_test_pred = model.predict(X_test)\n",
    "    tn, fp, fn, tp = confusion_matrix(y_test, y_test_pred).ravel()\n",
    "    print(\"False Positive Rate: {}\".format((fp / (fp + tn))))\n",
    "    print(\"False Negative Rate: {}\".format((fn / (tp + fn))))\n",
    "    print(\"True Negative Rate (Specificity): {}\".format((tn / (tn + fp))))\n",
    "    print(\"True Positive Rate (Sensitivity/Recall): {}\".format(metrics.recall_score(y_test, y_test_pred)))\n",
    "    print(\"ROC-AUC Score: {}\".format(metrics.roc_auc_score(y_test, y_test_pred)))\n",
    "    print(\"Accuracy: {}\".format(metrics.accuracy_score(y_test, y_test_pred)))\n",
    "    print(\"Log-loss: {}\".format(metrics.log_loss(y_test, y_test_pred)))\n",
    "    print(\"F1 Score: {}\".format(f1_score(y_test, y_test_pred)))\n",
    "    print(\"F2 Score: {}\".format(metrics.fbeta_score(y_test, y_test_pred, beta=2)))\n",
    "    print(metrics.confusion_matrix(y_test, y_test_pred))\n",
    "    print(classification_report(y_test, y_test_pred))\n",
    "\n",
    "    return None"
   ]
  },
  {
   "cell_type": "code",
   "execution_count": 6,
   "metadata": {},
   "outputs": [
    {
     "name": "stdout",
     "output_type": "stream",
     "text": [
      "False Positive Rate: 0.00036927621861152144\n",
      "False Negative Rate: 0.26595744680851063\n",
      "True Negative Rate (Specificity): 0.9996307237813885\n",
      "True Positive Rate (Sensitivity/Recall): 0.7340425531914894\n",
      "ROC-AUC Score: 0.866836638486439\n",
      "Accuracy: 0.9991924440855307\n",
      "Log-loss: 0.02789228794129388\n",
      "F1 Score: 0.75\n",
      "F2 Score: 0.740343347639485\n",
      "[[56847    21]\n",
      " [   25    69]]\n",
      "              precision    recall  f1-score   support\n",
      "\n",
      "           0       1.00      1.00      1.00     56868\n",
      "           1       0.77      0.73      0.75        94\n",
      "\n",
      "    accuracy                           1.00     56962\n",
      "   macro avg       0.88      0.87      0.87     56962\n",
      "weighted avg       1.00      1.00      1.00     56962\n",
      "\n"
     ]
    }
   ],
   "source": [
    "dt = DecisionTreeClassifier().fit(X_train_os, y_train_os)\n",
    "evaluate_model(dt, train_res=False)"
   ]
  },
  {
   "cell_type": "code",
   "execution_count": 7,
   "metadata": {},
   "outputs": [
    {
     "name": "stdout",
     "output_type": "stream",
     "text": [
      "False Positive Rate: 0.00012309207287050715\n",
      "False Negative Rate: 0.22340425531914893\n",
      "True Negative Rate (Specificity): 0.9998769079271295\n",
      "True Positive Rate (Sensitivity/Recall): 0.776595744680851\n",
      "ROC-AUC Score: 0.8882363263039903\n",
      "Accuracy: 0.9995084442259752\n",
      "Log-loss: 0.01697783322635384\n",
      "F1 Score: 0.8390804597701149\n",
      "F2 Score: 0.8004385964912281\n",
      "[[56861     7]\n",
      " [   21    73]]\n",
      "              precision    recall  f1-score   support\n",
      "\n",
      "           0       1.00      1.00      1.00     56868\n",
      "           1       0.91      0.78      0.84        94\n",
      "\n",
      "    accuracy                           1.00     56962\n",
      "   macro avg       0.96      0.89      0.92     56962\n",
      "weighted avg       1.00      1.00      1.00     56962\n",
      "\n"
     ]
    }
   ],
   "source": [
    "rf = RandomForestClassifier().fit(X_train_os, y_train_os)\n",
    "evaluate_model(rf, train_res=False)"
   ]
  },
  {
   "cell_type": "code",
   "execution_count": 8,
   "metadata": {},
   "outputs": [
    {
     "name": "stdout",
     "output_type": "stream",
     "text": [
      "False Positive Rate: 0.01596680030948864\n",
      "False Negative Rate: 0.10638297872340426\n",
      "True Negative Rate (Specificity): 0.9840331996905114\n",
      "True Positive Rate (Sensitivity/Recall): 0.8936170212765957\n",
      "ROC-AUC Score: 0.9388251104835535\n",
      "Accuracy: 0.9838839928373302\n",
      "Log-loss: 0.5566399137143125\n",
      "F1 Score: 0.15469613259668505\n",
      "F2 Score: 0.3070175438596491\n",
      "[[55960   908]\n",
      " [   10    84]]\n",
      "              precision    recall  f1-score   support\n",
      "\n",
      "           0       1.00      0.98      0.99     56868\n",
      "           1       0.08      0.89      0.15        94\n",
      "\n",
      "    accuracy                           0.98     56962\n",
      "   macro avg       0.54      0.94      0.57     56962\n",
      "weighted avg       1.00      0.98      0.99     56962\n",
      "\n"
     ]
    }
   ],
   "source": [
    "ada = AdaBoostClassifier().fit(X_train_os, y_train_os)\n",
    "evaluate_model(ada, train_res=False)"
   ]
  },
  {
   "cell_type": "code",
   "execution_count": 9,
   "metadata": {},
   "outputs": [
    {
     "name": "stdout",
     "output_type": "stream",
     "text": [
      "False Positive Rate: 0.0236864317366533\n",
      "False Negative Rate: 0.09574468085106383\n",
      "True Negative Rate (Specificity): 0.9763135682633467\n",
      "True Positive Rate (Sensitivity/Recall): 0.9042553191489362\n",
      "ROC-AUC Score: 0.9402844437061415\n",
      "Accuracy: 0.9761946560865138\n",
      "Log-loss: 0.8222263587872162\n",
      "F1 Score: 0.11140235910878113\n",
      "F2 Score: 0.23506637168141595\n",
      "[[55521  1347]\n",
      " [    9    85]]\n",
      "              precision    recall  f1-score   support\n",
      "\n",
      "           0       1.00      0.98      0.99     56868\n",
      "           1       0.06      0.90      0.11        94\n",
      "\n",
      "    accuracy                           0.98     56962\n",
      "   macro avg       0.53      0.94      0.55     56962\n",
      "weighted avg       1.00      0.98      0.99     56962\n",
      "\n"
     ]
    }
   ],
   "source": [
    "lr = LogisticRegression().fit(X_train_os, y_train_os)\n",
    "evaluate_model(lr, train_res=False)"
   ]
  },
  {
   "cell_type": "code",
   "execution_count": null,
   "metadata": {},
   "outputs": [],
   "source": []
  }
 ],
 "metadata": {
  "kernelspec": {
   "display_name": "Python 3.7.13 ('pyenv')",
   "language": "python",
   "name": "python3"
  },
  "language_info": {
   "codemirror_mode": {
    "name": "ipython",
    "version": 3
   },
   "file_extension": ".py",
   "mimetype": "text/x-python",
   "name": "python",
   "nbconvert_exporter": "python",
   "pygments_lexer": "ipython3",
   "version": "3.7.13"
  },
  "orig_nbformat": 4,
  "vscode": {
   "interpreter": {
    "hash": "5bb370feee63ea947f4e36f62d029664881a91224cdc3b84e096eaffbbbfd976"
   }
  }
 },
 "nbformat": 4,
 "nbformat_minor": 2
}
